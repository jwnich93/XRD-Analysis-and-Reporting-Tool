{
 "cells": [
  {
   "cell_type": "code",
   "execution_count": 144,
   "metadata": {},
   "outputs": [],
   "source": [
    "import glob\n",
    "import numpy as np\n",
    "import pandas as pd\n",
    "import xarray as xr\n",
    "pd.set_option('display.expand_frame_repr', True)"
   ]
  },
  {
   "cell_type": "code",
   "execution_count": 121,
   "metadata": {},
   "outputs": [],
   "source": [
    "# using glob function, create a list of all the files in the directory of the laboratory research results\n",
    "all_files = glob.glob('C:\\\\Users\\Jesse\\Documents\\FILES\\BATTERY_DATA_ANALYSIS\\DATA\\*.xy')"
   ]
  },
  {
   "cell_type": "code",
   "execution_count": 185,
   "metadata": {},
   "outputs": [],
   "source": [
    "#using the \"all_files\" glob function from above, iterate over the files and append them to a list named \"data_processor\"\n",
    "data_processor = []\n",
    "for file in all_files:\n",
    "    data_read = pd.read_table(file,header=None)\n",
    "    data_processor.append(data_read)\n",
    "    \n",
    "data = pd.concat(data_processor)"
   ]
  },
  {
   "cell_type": "code",
   "execution_count": 186,
   "metadata": {},
   "outputs": [
    {
     "data": {
      "text/html": [
       "<div>\n",
       "<style scoped>\n",
       "    .dataframe tbody tr th:only-of-type {\n",
       "        vertical-align: middle;\n",
       "    }\n",
       "\n",
       "    .dataframe tbody tr th {\n",
       "        vertical-align: top;\n",
       "    }\n",
       "\n",
       "    .dataframe thead th {\n",
       "        text-align: right;\n",
       "    }\n",
       "</style>\n",
       "<table border=\"1\" class=\"dataframe\">\n",
       "  <thead>\n",
       "    <tr style=\"text-align: right;\">\n",
       "      <th></th>\n",
       "      <th>0</th>\n",
       "    </tr>\n",
       "  </thead>\n",
       "  <tbody>\n",
       "    <tr>\n",
       "      <th>0</th>\n",
       "      <td>#COMMAND: motor_cam bat13_x19z00y03_10 yr 3.5 ...</td>\n",
       "    </tr>\n",
       "    <tr>\n",
       "      <th>1</th>\n",
       "      <td># sl1r sl1l sl1t sl1b sl2r sl2l sl2t sl2b sl3r...</td>\n",
       "    </tr>\n",
       "    <tr>\n",
       "      <th>2</th>\n",
       "      <td># 2 2 0.03 0 1 1 5 5.01 10 10 0.1 0.1 4 4 0.4 ...</td>\n",
       "    </tr>\n",
       "    <tr>\n",
       "      <th>3</th>\n",
       "      <td>#Scan 0 Fri Jul 24 19:22:43 2015</td>\n",
       "    </tr>\n",
       "    <tr>\n",
       "      <th>4</th>\n",
       "      <td>#At end of scan, counts: 0.983718  7957  1298  0</td>\n",
       "    </tr>\n",
       "  </tbody>\n",
       "</table>\n",
       "</div>"
      ],
      "text/plain": [
       "                                                   0\n",
       "0  #COMMAND: motor_cam bat13_x19z00y03_10 yr 3.5 ...\n",
       "1  # sl1r sl1l sl1t sl1b sl2r sl2l sl2t sl2b sl3r...\n",
       "2  # 2 2 0.03 0 1 1 5 5.01 10 10 0.1 0.1 4 4 0.4 ...\n",
       "3                   #Scan 0 Fri Jul 24 19:22:43 2015\n",
       "4   #At end of scan, counts: 0.983718  7957  1298  0"
      ]
     },
     "execution_count": 186,
     "metadata": {},
     "output_type": "execute_result"
    }
   ],
   "source": [
    "#display the first 5 rows of the data\n",
    "data.head()"
   ]
  },
  {
   "cell_type": "code",
   "execution_count": 187,
   "metadata": {},
   "outputs": [
    {
     "data": {
      "text/html": [
       "<div>\n",
       "<style scoped>\n",
       "    .dataframe tbody tr th:only-of-type {\n",
       "        vertical-align: middle;\n",
       "    }\n",
       "\n",
       "    .dataframe tbody tr th {\n",
       "        vertical-align: top;\n",
       "    }\n",
       "\n",
       "    .dataframe thead th {\n",
       "        text-align: right;\n",
       "    }\n",
       "</style>\n",
       "<table border=\"1\" class=\"dataframe\">\n",
       "  <thead>\n",
       "    <tr style=\"text-align: right;\">\n",
       "      <th></th>\n",
       "      <th>0</th>\n",
       "    </tr>\n",
       "  </thead>\n",
       "  <tbody>\n",
       "    <tr>\n",
       "      <th>122923</th>\n",
       "      <td>8188 0</td>\n",
       "    </tr>\n",
       "    <tr>\n",
       "      <th>122924</th>\n",
       "      <td>8189 1</td>\n",
       "    </tr>\n",
       "    <tr>\n",
       "      <th>122925</th>\n",
       "      <td>8190 2</td>\n",
       "    </tr>\n",
       "    <tr>\n",
       "      <th>122926</th>\n",
       "      <td>8191 0</td>\n",
       "    </tr>\n",
       "    <tr>\n",
       "      <th>122927</th>\n",
       "      <td>8192 1</td>\n",
       "    </tr>\n",
       "  </tbody>\n",
       "</table>\n",
       "</div>"
      ],
      "text/plain": [
       "             0\n",
       "122923  8188 0\n",
       "122924  8189 1\n",
       "122925  8190 2\n",
       "122926  8191 0\n",
       "122927  8192 1"
      ]
     },
     "execution_count": 187,
     "metadata": {},
     "output_type": "execute_result"
    }
   ],
   "source": [
    "#display the last 5 rows of the data\n",
    "data.tail()"
   ]
  },
  {
   "cell_type": "code",
   "execution_count": 192,
   "metadata": {},
   "outputs": [
    {
     "name": "stdout",
     "output_type": "stream",
     "text": [
      "<class 'pandas.core.frame.DataFrame'>\n",
      "Int64Index: 17660081 entries, 0 to 122927\n",
      "Data columns (total 1 columns):\n",
      "0    object\n",
      "dtypes: object(1)\n",
      "memory usage: 269.5+ MB\n"
     ]
    }
   ],
   "source": [
    "#display general info on the data\n",
    "data.info()"
   ]
  },
  {
   "cell_type": "code",
   "execution_count": 193,
   "metadata": {},
   "outputs": [],
   "source": [
    "# future development\n",
    "# split column\n",
    "#data[0].str.split(' ',expand=True) \n",
    "\n",
    "#data.loc[6:8197].plot() #plot the data test example"
   ]
  },
  {
   "cell_type": "code",
   "execution_count": 111,
   "metadata": {},
   "outputs": [
    {
     "data": {
      "text/plain": [
       "<matplotlib.axes._subplots.AxesSubplot at 0x1fc648bea20>"
      ]
     },
     "execution_count": 111,
     "metadata": {},
     "output_type": "execute_result"
    },
    {
     "data": {
      "image/png": "[encoded data removed]",
      "text/plain": [
       "<Figure size 432x288 with 1 Axes>"
      ]
     },
     "metadata": {},
     "output_type": "display_data"
    }
   ],
   "source": [
    "#example test practice reading in just one file stand alone\n",
    "\n",
    "# Read table into pandas\n",
    "query1 = pd.read_table('C:\\\\Users\\Jesse\\Documents\\FILES\\BATTERY_DATA_ANALYSIS\\DATA/bat13_x19z00y03_2.xy', header=None).loc[6:8197]\n",
    "# Strip Text and Expand into two columns\n",
    "query2 = query1[0].str.strip().str.split(' ',expand=True).set_index(0)\n",
    "query2[1] = query2[1].astype(int)\n",
    "query2.plot()"
   ]
  },
  {
   "cell_type": "code",
   "execution_count": 184,
   "metadata": {},
   "outputs": [
    {
     "data": {
      "text/plain": [
       "<matplotlib.axes._subplots.AxesSubplot at 0x1fc5105f940>"
      ]
     },
     "execution_count": 184,
     "metadata": {},
     "output_type": "execute_result"
    },
    {
     "data": {
      "image/png": "[encoded data removed]",
      "text/plain": [
       "<Figure size 432x288 with 1 Axes>"
      ]
     },
     "metadata": {},
     "output_type": "display_data"
    }
   ],
   "source": [
    "#print out of one continous x y data set (of the graph listed above)\n",
    "query2[1].value_counts().plot()"
   ]
  },
  {
   "cell_type": "code",
   "execution_count": null,
   "metadata": {},
   "outputs": [],
   "source": []
  }
 ],
 "metadata": {
  "kernelspec": {
   "display_name": "Python 3",
   "language": "python",
   "name": "python3"
  },
  "language_info": {
   "codemirror_mode": {
    "name": "ipython",
    "version": 3
   },
   "file_extension": ".py",
   "mimetype": "text/x-python",
   "name": "python",
   "nbconvert_exporter": "python",
   "pygments_lexer": "ipython3",
   "version": "3.6.5"
  }
 },
 "nbformat": 4,
 "nbformat_minor": 2
}
